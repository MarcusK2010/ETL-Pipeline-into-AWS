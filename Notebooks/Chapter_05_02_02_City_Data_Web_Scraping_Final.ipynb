{
 "cells": [
  {
   "cell_type": "markdown",
   "id": "a4a54975",
   "metadata": {},
   "source": [
    "# Necessary Imports"
   ]
  },
  {
   "cell_type": "code",
   "execution_count": 1,
   "id": "e0b835a0",
   "metadata": {},
   "outputs": [],
   "source": [
    "import pandas as pd\n",
    "from bs4 import BeautifulSoup as bs\n",
    "import requests\n",
    "import re\n",
    "import marcus_keys"
   ]
  },
  {
   "cell_type": "markdown",
   "id": "3724f3c6",
   "metadata": {},
   "source": [
    "# Functions for Web Scraping & Data Processing"
   ]
  },
  {
   "cell_type": "code",
   "execution_count": 3,
   "id": "30a1606f",
   "metadata": {},
   "outputs": [],
   "source": [
    "def get_city_data(city_lst):\n",
    "    city_data_df = pd.DataFrame(\n",
    "        {\"city_name\": [],\n",
    "         \"country\": [],\n",
    "         \"latitude\": [],\n",
    "         \"longitude\": [],\n",
    "         \"population\": []\n",
    "        }\n",
    "    )\n",
    "\n",
    "    for city in city_lst:\n",
    "\n",
    "        url = f\"https://en.wikipedia.org/wiki/{city}\"\n",
    "\n",
    "        headers = {'Accept-Language': 'en-US,en;q=0.8'}\n",
    "        response = requests.get(url, headers = headers)\n",
    "\n",
    "        if response.status_code != 200: break\n",
    "\n",
    "        wiki_city_soup = bs(response.content, \"html.parser\")\n",
    "\n",
    "        city_name = wiki_city_soup.select(\"span.mw-page-title-main\")[0].getText()\n",
    "        country_name = wiki_city_soup.select(\"table.infobox td.infobox-data\")[0].getText()\n",
    "        latitude = wiki_city_soup.select(\"span.latitude\")[0].getText()\n",
    "        longitude = wiki_city_soup.select(\"span.longitude\")[0].getText()\n",
    "\n",
    "        if wiki_city_soup.select_one('th.infobox-header:-soup-contains(\"Population\")'):\n",
    "            population = wiki_city_soup.select_one('th.infobox-header:-soup-contains(\"Population\")').parent.find_next_sibling().find(text=re.compile(r'\\d+'))\n",
    "\n",
    "        city_df = pd.DataFrame(\n",
    "            {\"city_name\": [city_name],\n",
    "             \"country\": [country_name],\n",
    "             \"latitude\": [latitude],\n",
    "             \"longitude\": [longitude],\n",
    "             \"population\": [population]\n",
    "            }\n",
    "        )\n",
    "\n",
    "        city_data_df = pd.concat([city_data_df, city_df], ignore_index = True)\n",
    "\n",
    "\n",
    "        city_data_df[\"latitude\"] = city_data_df[\"latitude\"].str.split('″').str[0].str.replace('°', '.', regex=False).str.replace('′', '', regex=False)\n",
    "        city_data_df[\"longitude\"] = city_data_df[\"longitude\"].str.split('″').str[0].str.replace('°', '.', regex=False).str.replace('′', '', regex=False)\n",
    "        city_data_df[\"population\"] = city_data_df[\"population\"].str.replace(',', '', regex=False)\n",
    "\n",
    "\n",
    "    return city_data_df\n",
    "\n",
    "def process_city_data(city_data_raw_df):\n",
    "    city_data_raw_df[\"latitude\"] = pd.to_numeric(city_data_raw_df[\"latitude\"], errors='coerce')\n",
    "    city_data_raw_df[\"longitude\"] = pd.to_numeric(city_data_raw_df[\"longitude\"], errors='coerce')\n",
    "    city_data_raw_df[\"population\"] = pd.to_numeric(city_data_raw_df[\"population\"], errors='coerce')\n",
    "    \n",
    "    city_data_raw_df[\"city_id\"] = None\n",
    "    \n",
    "    for i in range(0, len(city_data_raw_df[\"city_id\"])):\n",
    "        if city_data_raw_df.loc[i, \"city_name\"] == \"Berlin\":\n",
    "            city_data_raw_df.loc[i, \"city_id\"] = \"Q64\"\n",
    "        elif city_data_raw_df.loc[i, \"city_name\"] == \"Hamburg\":\n",
    "            city_data_raw_df.loc[i, \"city_id\"] = \"Q1055\"\n",
    "        elif city_data_raw_df.loc[i, \"city_name\"] == \"Stuttgart\":\n",
    "            city_data_raw_df.loc[i, \"city_id\"] = \"Q1022\"\n",
    "        else:\n",
    "            city_data_raw_df.loc[i, \"city_id\"] = \"Q1718\"\n",
    "            \n",
    "    return city_data_raw_df"
   ]
  },
  {
   "cell_type": "code",
   "execution_count": 4,
   "id": "2ebbf81f",
   "metadata": {},
   "outputs": [],
   "source": [
    "city_lst = [\"Berlin\", \"Hamburg\", \"Stuttgart\", \"Duesseldorf\"]"
   ]
  },
  {
   "cell_type": "code",
   "execution_count": 5,
   "id": "2840318d",
   "metadata": {},
   "outputs": [],
   "source": [
    "city_data_raw_df = get_city_data(city_lst)"
   ]
  },
  {
   "cell_type": "code",
   "execution_count": 6,
   "id": "a3ce20dc",
   "metadata": {},
   "outputs": [],
   "source": [
    "city_data_df = process_city_data(city_data_raw_df)"
   ]
  },
  {
   "cell_type": "code",
   "execution_count": 7,
   "id": "61c29e95",
   "metadata": {},
   "outputs": [
    {
     "data": {
      "text/html": [
       "<div>\n",
       "<style scoped>\n",
       "    .dataframe tbody tr th:only-of-type {\n",
       "        vertical-align: middle;\n",
       "    }\n",
       "\n",
       "    .dataframe tbody tr th {\n",
       "        vertical-align: top;\n",
       "    }\n",
       "\n",
       "    .dataframe thead th {\n",
       "        text-align: right;\n",
       "    }\n",
       "</style>\n",
       "<table border=\"1\" class=\"dataframe\">\n",
       "  <thead>\n",
       "    <tr style=\"text-align: right;\">\n",
       "      <th></th>\n",
       "      <th>city_name</th>\n",
       "      <th>country</th>\n",
       "      <th>latitude</th>\n",
       "      <th>longitude</th>\n",
       "      <th>population</th>\n",
       "      <th>city_id</th>\n",
       "    </tr>\n",
       "  </thead>\n",
       "  <tbody>\n",
       "    <tr>\n",
       "      <th>0</th>\n",
       "      <td>Berlin</td>\n",
       "      <td>Germany</td>\n",
       "      <td>52.3112</td>\n",
       "      <td>13.2418</td>\n",
       "      <td>3850809</td>\n",
       "      <td>Q64</td>\n",
       "    </tr>\n",
       "    <tr>\n",
       "      <th>1</th>\n",
       "      <td>Hamburg</td>\n",
       "      <td>Germany</td>\n",
       "      <td>NaN</td>\n",
       "      <td>NaN</td>\n",
       "      <td>1906411</td>\n",
       "      <td>Q1055</td>\n",
       "    </tr>\n",
       "    <tr>\n",
       "      <th>2</th>\n",
       "      <td>Stuttgart</td>\n",
       "      <td>Germany</td>\n",
       "      <td>48.4639</td>\n",
       "      <td>9.1048</td>\n",
       "      <td>626275</td>\n",
       "      <td>Q1022</td>\n",
       "    </tr>\n",
       "    <tr>\n",
       "      <th>3</th>\n",
       "      <td>Düsseldorf</td>\n",
       "      <td>Germany</td>\n",
       "      <td>NaN</td>\n",
       "      <td>NaN</td>\n",
       "      <td>619477</td>\n",
       "      <td>Q1718</td>\n",
       "    </tr>\n",
       "  </tbody>\n",
       "</table>\n",
       "</div>"
      ],
      "text/plain": [
       "    city_name  country  latitude  longitude  population city_id\n",
       "0      Berlin  Germany   52.3112    13.2418     3850809     Q64\n",
       "1     Hamburg  Germany       NaN        NaN     1906411   Q1055\n",
       "2   Stuttgart  Germany   48.4639     9.1048      626275   Q1022\n",
       "3  Düsseldorf  Germany       NaN        NaN      619477   Q1718"
      ]
     },
     "execution_count": 7,
     "metadata": {},
     "output_type": "execute_result"
    }
   ],
   "source": [
    "city_data_df"
   ]
  },
  {
   "cell_type": "markdown",
   "id": "15f291c4",
   "metadata": {},
   "source": [
    "# Local MySQL Connection"
   ]
  },
  {
   "cell_type": "code",
   "execution_count": 53,
   "id": "2fd00628",
   "metadata": {},
   "outputs": [],
   "source": [
    "schema=\"p5_gans_database\"\n",
    "host=\"127.0.0.1\"\n",
    "user=\"root\"\n",
    "password=marcus_keys.my_sql_key\n",
    "port=3306\n",
    "con = f'mysql+pymysql://{user}:{password}@{host}:{port}/{schema}'"
   ]
  },
  {
   "cell_type": "markdown",
   "id": "03335dfd",
   "metadata": {},
   "source": [
    "# AWS RDS MySQL Connection"
   ]
  },
  {
   "cell_type": "code",
   "execution_count": 8,
   "id": "02ea7690",
   "metadata": {},
   "outputs": [],
   "source": [
    "schema=\"aws_p5_gans_database\"\n",
    "host=\"wbs-cs-p5-db.cjdcbdhnueky.eu-north-1.rds.amazonaws.com\"\n",
    "user=\"mkadmin\"\n",
    "password=marcus_keys.aws_rds_key\n",
    "port=3306\n",
    "con = f'mysql+pymysql://{user}:{password}@{host}:{port}/{schema}'"
   ]
  },
  {
   "cell_type": "markdown",
   "id": "c502dad1",
   "metadata": {},
   "source": [
    "# Uploading the DataFrame into the database"
   ]
  },
  {
   "cell_type": "code",
   "execution_count": 9,
   "id": "7caf82cb",
   "metadata": {},
   "outputs": [
    {
     "data": {
      "text/plain": [
       "4"
      ]
     },
     "execution_count": 9,
     "metadata": {},
     "output_type": "execute_result"
    }
   ],
   "source": [
    "city_data_df.to_sql('city_data_table', \n",
    "              if_exists='append', \n",
    "              con=con, \n",
    "              index=False)"
   ]
  }
 ],
 "metadata": {
  "kernelspec": {
   "display_name": "Python 3 (ipykernel)",
   "language": "python",
   "name": "python3"
  },
  "language_info": {
   "codemirror_mode": {
    "name": "ipython",
    "version": 3
   },
   "file_extension": ".py",
   "mimetype": "text/x-python",
   "name": "python",
   "nbconvert_exporter": "python",
   "pygments_lexer": "ipython3",
   "version": "3.10.9"
  }
 },
 "nbformat": 4,
 "nbformat_minor": 5
}
