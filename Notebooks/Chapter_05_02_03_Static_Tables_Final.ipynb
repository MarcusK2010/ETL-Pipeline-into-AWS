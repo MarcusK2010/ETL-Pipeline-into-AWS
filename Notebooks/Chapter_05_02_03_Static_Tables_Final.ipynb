{
 "cells": [
  {
   "cell_type": "code",
   "execution_count": 1,
   "id": "678727be",
   "metadata": {},
   "outputs": [],
   "source": [
    "import pandas as pd\n",
    "import sqlalchemy\n",
    "import marcus_keys"
   ]
  },
  {
   "cell_type": "code",
   "execution_count": 2,
   "id": "e3cfd68c",
   "metadata": {},
   "outputs": [],
   "source": [
    "iata_lst = ['BER', 'HAM', 'STR', 'DUS']\n",
    "city_lst = [\"Berlin\", \"Hamburg\", \"Stuttgart\", \"Duesseldorf\"]\n",
    "country_lst = [\"DE\", \"DE\", \"DE\", \"DE\"]\n",
    "q_id_lst = [\"Q64\", \"Q1055\", \"Q1022\", \"Q1718\"]\n",
    "airport_name_lst = [\"Berlin-Brandenburg\", \"Hamburg\", \"Stuttgart\", \"Düsseldorf\"]\n",
    "\n",
    "cities_df = pd.DataFrame({\"city_id\": q_id_lst, \"city_name\": city_lst, \"country_code\": country_lst})\n",
    "city_airport_df = pd.DataFrame({\"city_id\":q_id_lst, \"iata_code\":iata_lst})\n",
    "airports_df = pd.DataFrame({\"iata_code\":iata_lst, \"airport_name\":airport_name_lst})"
   ]
  },
  {
   "cell_type": "code",
   "execution_count": 7,
   "id": "304f7913",
   "metadata": {
    "collapsed": true
   },
   "outputs": [
    {
     "data": {
      "text/html": [
       "<div>\n",
       "<style scoped>\n",
       "    .dataframe tbody tr th:only-of-type {\n",
       "        vertical-align: middle;\n",
       "    }\n",
       "\n",
       "    .dataframe tbody tr th {\n",
       "        vertical-align: top;\n",
       "    }\n",
       "\n",
       "    .dataframe thead th {\n",
       "        text-align: right;\n",
       "    }\n",
       "</style>\n",
       "<table border=\"1\" class=\"dataframe\">\n",
       "  <thead>\n",
       "    <tr style=\"text-align: right;\">\n",
       "      <th></th>\n",
       "      <th>city_id</th>\n",
       "      <th>city_name</th>\n",
       "      <th>country_code</th>\n",
       "    </tr>\n",
       "  </thead>\n",
       "  <tbody>\n",
       "    <tr>\n",
       "      <th>0</th>\n",
       "      <td>Q64</td>\n",
       "      <td>Berlin</td>\n",
       "      <td>DE</td>\n",
       "    </tr>\n",
       "    <tr>\n",
       "      <th>1</th>\n",
       "      <td>Q2079</td>\n",
       "      <td>Leipzig</td>\n",
       "      <td>DE</td>\n",
       "    </tr>\n",
       "    <tr>\n",
       "      <th>2</th>\n",
       "      <td>Q1055</td>\n",
       "      <td>Hamburg</td>\n",
       "      <td>DE</td>\n",
       "    </tr>\n",
       "    <tr>\n",
       "      <th>3</th>\n",
       "      <td>Q1731</td>\n",
       "      <td>Dresden</td>\n",
       "      <td>DE</td>\n",
       "    </tr>\n",
       "    <tr>\n",
       "      <th>4</th>\n",
       "      <td>Q1022</td>\n",
       "      <td>Stuttgart</td>\n",
       "      <td>DE</td>\n",
       "    </tr>\n",
       "    <tr>\n",
       "      <th>5</th>\n",
       "      <td>Q1718</td>\n",
       "      <td>Duesseldorf</td>\n",
       "      <td>DE</td>\n",
       "    </tr>\n",
       "    <tr>\n",
       "      <th>6</th>\n",
       "      <td>Q365</td>\n",
       "      <td>Cologne</td>\n",
       "      <td>DE</td>\n",
       "    </tr>\n",
       "  </tbody>\n",
       "</table>\n",
       "</div>"
      ],
      "text/plain": [
       "  city_id    city_name country_code\n",
       "0     Q64       Berlin           DE\n",
       "1   Q2079      Leipzig           DE\n",
       "2   Q1055      Hamburg           DE\n",
       "3   Q1731      Dresden           DE\n",
       "4   Q1022    Stuttgart           DE\n",
       "5   Q1718  Duesseldorf           DE\n",
       "6    Q365      Cologne           DE"
      ]
     },
     "execution_count": 7,
     "metadata": {},
     "output_type": "execute_result"
    }
   ],
   "source": [
    "cities_df"
   ]
  },
  {
   "cell_type": "code",
   "execution_count": 8,
   "id": "fa408f59",
   "metadata": {
    "collapsed": true
   },
   "outputs": [
    {
     "name": "stdout",
     "output_type": "stream",
     "text": [
      "<class 'pandas.core.frame.DataFrame'>\n",
      "RangeIndex: 7 entries, 0 to 6\n",
      "Data columns (total 3 columns):\n",
      " #   Column        Non-Null Count  Dtype \n",
      "---  ------        --------------  ----- \n",
      " 0   city_id       7 non-null      object\n",
      " 1   city_name     7 non-null      object\n",
      " 2   country_code  7 non-null      object\n",
      "dtypes: object(3)\n",
      "memory usage: 296.0+ bytes\n"
     ]
    }
   ],
   "source": [
    "cities_df.info()"
   ]
  },
  {
   "cell_type": "code",
   "execution_count": 9,
   "id": "089c000d",
   "metadata": {
    "collapsed": true
   },
   "outputs": [
    {
     "data": {
      "text/html": [
       "<div>\n",
       "<style scoped>\n",
       "    .dataframe tbody tr th:only-of-type {\n",
       "        vertical-align: middle;\n",
       "    }\n",
       "\n",
       "    .dataframe tbody tr th {\n",
       "        vertical-align: top;\n",
       "    }\n",
       "\n",
       "    .dataframe thead th {\n",
       "        text-align: right;\n",
       "    }\n",
       "</style>\n",
       "<table border=\"1\" class=\"dataframe\">\n",
       "  <thead>\n",
       "    <tr style=\"text-align: right;\">\n",
       "      <th></th>\n",
       "      <th>city_id</th>\n",
       "      <th>iata_code</th>\n",
       "    </tr>\n",
       "  </thead>\n",
       "  <tbody>\n",
       "    <tr>\n",
       "      <th>0</th>\n",
       "      <td>Q64</td>\n",
       "      <td>BER</td>\n",
       "    </tr>\n",
       "    <tr>\n",
       "      <th>1</th>\n",
       "      <td>Q2079</td>\n",
       "      <td>LEJ</td>\n",
       "    </tr>\n",
       "    <tr>\n",
       "      <th>2</th>\n",
       "      <td>Q1055</td>\n",
       "      <td>HAM</td>\n",
       "    </tr>\n",
       "    <tr>\n",
       "      <th>3</th>\n",
       "      <td>Q1731</td>\n",
       "      <td>DRS</td>\n",
       "    </tr>\n",
       "    <tr>\n",
       "      <th>4</th>\n",
       "      <td>Q1022</td>\n",
       "      <td>STR</td>\n",
       "    </tr>\n",
       "    <tr>\n",
       "      <th>5</th>\n",
       "      <td>Q1718</td>\n",
       "      <td>DUS</td>\n",
       "    </tr>\n",
       "    <tr>\n",
       "      <th>6</th>\n",
       "      <td>Q365</td>\n",
       "      <td>CGN</td>\n",
       "    </tr>\n",
       "  </tbody>\n",
       "</table>\n",
       "</div>"
      ],
      "text/plain": [
       "  city_id iata_code\n",
       "0     Q64       BER\n",
       "1   Q2079       LEJ\n",
       "2   Q1055       HAM\n",
       "3   Q1731       DRS\n",
       "4   Q1022       STR\n",
       "5   Q1718       DUS\n",
       "6    Q365       CGN"
      ]
     },
     "execution_count": 9,
     "metadata": {},
     "output_type": "execute_result"
    }
   ],
   "source": [
    "city_airport_df"
   ]
  },
  {
   "cell_type": "code",
   "execution_count": 10,
   "id": "ddf9ac07",
   "metadata": {
    "collapsed": true
   },
   "outputs": [
    {
     "name": "stdout",
     "output_type": "stream",
     "text": [
      "<class 'pandas.core.frame.DataFrame'>\n",
      "RangeIndex: 7 entries, 0 to 6\n",
      "Data columns (total 2 columns):\n",
      " #   Column     Non-Null Count  Dtype \n",
      "---  ------     --------------  ----- \n",
      " 0   city_id    7 non-null      object\n",
      " 1   iata_code  7 non-null      object\n",
      "dtypes: object(2)\n",
      "memory usage: 240.0+ bytes\n"
     ]
    }
   ],
   "source": [
    "city_airport_df.info()"
   ]
  },
  {
   "cell_type": "code",
   "execution_count": 11,
   "id": "f7a27197",
   "metadata": {
    "collapsed": true
   },
   "outputs": [
    {
     "data": {
      "text/html": [
       "<div>\n",
       "<style scoped>\n",
       "    .dataframe tbody tr th:only-of-type {\n",
       "        vertical-align: middle;\n",
       "    }\n",
       "\n",
       "    .dataframe tbody tr th {\n",
       "        vertical-align: top;\n",
       "    }\n",
       "\n",
       "    .dataframe thead th {\n",
       "        text-align: right;\n",
       "    }\n",
       "</style>\n",
       "<table border=\"1\" class=\"dataframe\">\n",
       "  <thead>\n",
       "    <tr style=\"text-align: right;\">\n",
       "      <th></th>\n",
       "      <th>iata_code</th>\n",
       "      <th>airport_name</th>\n",
       "    </tr>\n",
       "  </thead>\n",
       "  <tbody>\n",
       "    <tr>\n",
       "      <th>0</th>\n",
       "      <td>BER</td>\n",
       "      <td>Berlin-Brandenburg</td>\n",
       "    </tr>\n",
       "    <tr>\n",
       "      <th>1</th>\n",
       "      <td>LEJ</td>\n",
       "      <td>Leipzig-Halle</td>\n",
       "    </tr>\n",
       "    <tr>\n",
       "      <th>2</th>\n",
       "      <td>HAM</td>\n",
       "      <td>Hamburg</td>\n",
       "    </tr>\n",
       "    <tr>\n",
       "      <th>3</th>\n",
       "      <td>DRS</td>\n",
       "      <td>Dresden</td>\n",
       "    </tr>\n",
       "    <tr>\n",
       "      <th>4</th>\n",
       "      <td>STR</td>\n",
       "      <td>Stuttgart</td>\n",
       "    </tr>\n",
       "    <tr>\n",
       "      <th>5</th>\n",
       "      <td>DUS</td>\n",
       "      <td>Düsseldorf</td>\n",
       "    </tr>\n",
       "    <tr>\n",
       "      <th>6</th>\n",
       "      <td>CGN</td>\n",
       "      <td>Köln-Bonn</td>\n",
       "    </tr>\n",
       "  </tbody>\n",
       "</table>\n",
       "</div>"
      ],
      "text/plain": [
       "  iata_code        airport_name\n",
       "0       BER  Berlin-Brandenburg\n",
       "1       LEJ       Leipzig-Halle\n",
       "2       HAM             Hamburg\n",
       "3       DRS             Dresden\n",
       "4       STR           Stuttgart\n",
       "5       DUS          Düsseldorf\n",
       "6       CGN           Köln-Bonn"
      ]
     },
     "execution_count": 11,
     "metadata": {},
     "output_type": "execute_result"
    }
   ],
   "source": [
    "airports_df"
   ]
  },
  {
   "cell_type": "code",
   "execution_count": 12,
   "id": "afd97417",
   "metadata": {
    "collapsed": true
   },
   "outputs": [
    {
     "name": "stdout",
     "output_type": "stream",
     "text": [
      "<class 'pandas.core.frame.DataFrame'>\n",
      "RangeIndex: 7 entries, 0 to 6\n",
      "Data columns (total 2 columns):\n",
      " #   Column        Non-Null Count  Dtype \n",
      "---  ------        --------------  ----- \n",
      " 0   iata_code     7 non-null      object\n",
      " 1   airport_name  7 non-null      object\n",
      "dtypes: object(2)\n",
      "memory usage: 240.0+ bytes\n"
     ]
    }
   ],
   "source": [
    "airports_df.info()"
   ]
  },
  {
   "cell_type": "markdown",
   "id": "844dd49d",
   "metadata": {},
   "source": [
    "# Local MySQL Connection"
   ]
  },
  {
   "cell_type": "code",
   "execution_count": 24,
   "id": "a0ab0179",
   "metadata": {},
   "outputs": [],
   "source": [
    "schema=\"p5_gans_database\"\n",
    "host=\"127.0.0.1\"\n",
    "user=\"root\"\n",
    "password=marcus_keys.my_sql_key\n",
    "port=3306\n",
    "con = f'mysql+pymysql://{user}:{password}@{host}:{port}/{schema}'"
   ]
  },
  {
   "cell_type": "markdown",
   "id": "7b83c1bf",
   "metadata": {},
   "source": [
    "# AWS RDS MySQL Connection"
   ]
  },
  {
   "cell_type": "code",
   "execution_count": 3,
   "id": "a83f9a12",
   "metadata": {},
   "outputs": [],
   "source": [
    "schema=\"aws_p5_gans_database\"\n",
    "host=\"wbs-cs-p5-db.cjdcbdhnueky.eu-north-1.rds.amazonaws.com\"\n",
    "user=\"mkadmin\"\n",
    "password=marcus_keys.aws_rds_key\n",
    "port=3306\n",
    "con = f'mysql+pymysql://{user}:{password}@{host}:{port}/{schema}'"
   ]
  },
  {
   "cell_type": "markdown",
   "id": "28ad30d2",
   "metadata": {},
   "source": [
    "# Uploading the DataFrames into the database"
   ]
  },
  {
   "cell_type": "code",
   "execution_count": 4,
   "id": "8998b591",
   "metadata": {},
   "outputs": [
    {
     "data": {
      "text/plain": [
       "4"
      ]
     },
     "execution_count": 4,
     "metadata": {},
     "output_type": "execute_result"
    }
   ],
   "source": [
    "cities_df.to_sql('city_table', \n",
    "                if_exists='append', \n",
    "                con=con, \n",
    "                index=False)"
   ]
  },
  {
   "cell_type": "code",
   "execution_count": 5,
   "id": "8ffc4a61",
   "metadata": {},
   "outputs": [
    {
     "data": {
      "text/plain": [
       "4"
      ]
     },
     "execution_count": 5,
     "metadata": {},
     "output_type": "execute_result"
    }
   ],
   "source": [
    "airports_df.to_sql('airport_table', \n",
    "                  if_exists='append', \n",
    "                  con=con, \n",
    "                  index=False)"
   ]
  },
  {
   "cell_type": "code",
   "execution_count": 6,
   "id": "9e792327",
   "metadata": {},
   "outputs": [
    {
     "data": {
      "text/plain": [
       "4"
      ]
     },
     "execution_count": 6,
     "metadata": {},
     "output_type": "execute_result"
    }
   ],
   "source": [
    "city_airport_df.to_sql('city_airport_table', \n",
    "                       if_exists='append', \n",
    "                       con=con, \n",
    "                       index=False)"
   ]
  }
 ],
 "metadata": {
  "kernelspec": {
   "display_name": "Python 3 (ipykernel)",
   "language": "python",
   "name": "python3"
  },
  "language_info": {
   "codemirror_mode": {
    "name": "ipython",
    "version": 3
   },
   "file_extension": ".py",
   "mimetype": "text/x-python",
   "name": "python",
   "nbconvert_exporter": "python",
   "pygments_lexer": "ipython3",
   "version": "3.10.9"
  }
 },
 "nbformat": 4,
 "nbformat_minor": 5
}
