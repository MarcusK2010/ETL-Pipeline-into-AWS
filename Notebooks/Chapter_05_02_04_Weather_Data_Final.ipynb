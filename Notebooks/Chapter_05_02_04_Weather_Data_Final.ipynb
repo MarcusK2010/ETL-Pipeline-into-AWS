{
 "cells": [
  {
   "cell_type": "markdown",
   "id": "ad11c5f9",
   "metadata": {},
   "source": [
    "# OpenWeatherMap API Data Collection"
   ]
  },
  {
   "cell_type": "markdown",
   "id": "29d30e1d",
   "metadata": {},
   "source": [
    "Start a new notebook and begin seeing if you can make a successful API call to Open Weather https://openweathermap.org/forecast5\n",
    "* If you look on the right hand side of the page linked above, there is a menu of options for the API, a couple of useful ones could be How to make an API call, Weather fields in API response, Built-in API request by city name and Units of measurement, have an explore and see how you can customise the API to your needs.\n",
    "* If you struggle to make a successful API call, please contact me or Yanish\n",
    "Once you've got the JSON returned, start looking and investigating at what parts of the information you want. Try access these pieces of information one at a time.\n",
    "\n",
    "\n",
    "Once you've learnt how to access each of the pieces of information, use a loop and a dictionary to bring the information together, and then make a DataFrame (other options include .json_normalize() where possible)\n",
    "Edit the DataFrame to get rid of any weird characters, correct the data types etc....\n",
    "When you've completed all of this, bring your code together in a function. A good input for this function would be a list of cities so you can see the weather for as many cities as you choose"
   ]
  },
  {
   "cell_type": "markdown",
   "id": "7a053549",
   "metadata": {},
   "source": [
    "# Necessary Imports"
   ]
  },
  {
   "cell_type": "code",
   "execution_count": 1,
   "id": "324221e1",
   "metadata": {},
   "outputs": [],
   "source": [
    "import pandas as pd\n",
    "import requests\n",
    "import json\n",
    "from datetime import datetime\n",
    "import pytz\n",
    "import marcus_keys"
   ]
  },
  {
   "cell_type": "markdown",
   "id": "8a840fd1",
   "metadata": {},
   "source": [
    "# Functions for API Call & Data Processing"
   ]
  },
  {
   "cell_type": "code",
   "execution_count": 5,
   "id": "9ee4cad5",
   "metadata": {},
   "outputs": [],
   "source": [
    "def get_weather_data(cities):\n",
    "    api_key = marcus_keys.open_weather_key\n",
    "    tz = pytz.timezone(\"Europe/Berlin\")\n",
    "    now = datetime.now().astimezone(tz)\n",
    "\n",
    "    weather_data = {\"city_name\": [],\n",
    "                    \"country_code\": [],\n",
    "                    \"date_time\": [],\n",
    "                    \"temperature\": [],\n",
    "                    \"wind_speed\": [],\n",
    "                    \"humidity\": [],\n",
    "                    \"outlook\": []}\n",
    "\n",
    "    for city in cities:\n",
    "        url = f\"https://api.openweathermap.org/data/2.5/forecast?q={city}&appid={api_key}&units=metric\"\n",
    "        weather = requests.get(url)\n",
    "        weather_json = weather.json()\n",
    "        \n",
    "        for i in weather_json[\"list\"]:\n",
    "            weather_data[\"city_name\"].append(weather_json[\"city\"][\"name\"])\n",
    "            weather_data[\"country_code\"].append(weather_json[\"city\"][\"country\"])\n",
    "            weather_data[\"date_time\"].append(i[\"dt_txt\"])\n",
    "            weather_data[\"temperature\"].append(i[\"main\"][\"temp\"])\n",
    "            weather_data[\"wind_speed\"].append(i[\"wind\"][\"speed\"])\n",
    "            weather_data[\"humidity\"].append(i[\"main\"][\"humidity\"])\n",
    "            weather_data[\"outlook\"].append(i[\"weather\"][0][\"description\"])\n",
    "            weather_data[\"data_collection_from\"] = datetime.now().strftime('%Y-%m-%d %H:%M:%S')\n",
    "\n",
    "    return pd.DataFrame(weather_data)\n",
    "\n",
    "def process_weather_data(weather_data_raw_df):\n",
    "    weather_data_raw_df[\"data_collection_from\"] = pd.to_datetime(weather_data_raw_df[\"data_collection_from\"])\n",
    "    weather_data_raw_df[\"date_time\"] = pd.to_datetime(weather_data_raw_df[\"date_time\"])\n",
    "    \n",
    "    return weather_data_raw_df"
   ]
  },
  {
   "cell_type": "code",
   "execution_count": 6,
   "id": "3272db6a",
   "metadata": {},
   "outputs": [],
   "source": [
    "cities = [\"Berlin\", \"Hamburg\", \"Stuttgart\", \"Duesseldorf\"]"
   ]
  },
  {
   "cell_type": "code",
   "execution_count": 7,
   "id": "b8e6c032",
   "metadata": {},
   "outputs": [],
   "source": [
    "weather_data_raw_df = pd.DataFrame(get_weather_data(cities))"
   ]
  },
  {
   "cell_type": "code",
   "execution_count": 8,
   "id": "875a7653",
   "metadata": {},
   "outputs": [],
   "source": [
    "weather_data_df = process_weather_data(weather_data_raw_df)"
   ]
  },
  {
   "cell_type": "code",
   "execution_count": 9,
   "id": "289b3368",
   "metadata": {
    "collapsed": true
   },
   "outputs": [
    {
     "data": {
      "text/html": [
       "<div>\n",
       "<style scoped>\n",
       "    .dataframe tbody tr th:only-of-type {\n",
       "        vertical-align: middle;\n",
       "    }\n",
       "\n",
       "    .dataframe tbody tr th {\n",
       "        vertical-align: top;\n",
       "    }\n",
       "\n",
       "    .dataframe thead th {\n",
       "        text-align: right;\n",
       "    }\n",
       "</style>\n",
       "<table border=\"1\" class=\"dataframe\">\n",
       "  <thead>\n",
       "    <tr style=\"text-align: right;\">\n",
       "      <th></th>\n",
       "      <th>city_name</th>\n",
       "      <th>country_code</th>\n",
       "      <th>date_time</th>\n",
       "      <th>temperature</th>\n",
       "      <th>wind_speed</th>\n",
       "      <th>humidity</th>\n",
       "      <th>outlook</th>\n",
       "      <th>data_collection_from</th>\n",
       "    </tr>\n",
       "  </thead>\n",
       "  <tbody>\n",
       "    <tr>\n",
       "      <th>0</th>\n",
       "      <td>Berlin</td>\n",
       "      <td>DE</td>\n",
       "      <td>2023-07-10 18:00:00</td>\n",
       "      <td>26.04</td>\n",
       "      <td>5.05</td>\n",
       "      <td>56</td>\n",
       "      <td>light rain</td>\n",
       "      <td>2023-07-10 17:32:26</td>\n",
       "    </tr>\n",
       "    <tr>\n",
       "      <th>1</th>\n",
       "      <td>Berlin</td>\n",
       "      <td>DE</td>\n",
       "      <td>2023-07-10 21:00:00</td>\n",
       "      <td>22.83</td>\n",
       "      <td>3.38</td>\n",
       "      <td>57</td>\n",
       "      <td>broken clouds</td>\n",
       "      <td>2023-07-10 17:32:26</td>\n",
       "    </tr>\n",
       "    <tr>\n",
       "      <th>2</th>\n",
       "      <td>Berlin</td>\n",
       "      <td>DE</td>\n",
       "      <td>2023-07-11 00:00:00</td>\n",
       "      <td>18.06</td>\n",
       "      <td>2.49</td>\n",
       "      <td>66</td>\n",
       "      <td>broken clouds</td>\n",
       "      <td>2023-07-10 17:32:26</td>\n",
       "    </tr>\n",
       "    <tr>\n",
       "      <th>3</th>\n",
       "      <td>Berlin</td>\n",
       "      <td>DE</td>\n",
       "      <td>2023-07-11 03:00:00</td>\n",
       "      <td>16.47</td>\n",
       "      <td>1.84</td>\n",
       "      <td>71</td>\n",
       "      <td>scattered clouds</td>\n",
       "      <td>2023-07-10 17:32:26</td>\n",
       "    </tr>\n",
       "    <tr>\n",
       "      <th>4</th>\n",
       "      <td>Berlin</td>\n",
       "      <td>DE</td>\n",
       "      <td>2023-07-11 06:00:00</td>\n",
       "      <td>20.11</td>\n",
       "      <td>1.08</td>\n",
       "      <td>56</td>\n",
       "      <td>scattered clouds</td>\n",
       "      <td>2023-07-10 17:32:26</td>\n",
       "    </tr>\n",
       "    <tr>\n",
       "      <th>...</th>\n",
       "      <td>...</td>\n",
       "      <td>...</td>\n",
       "      <td>...</td>\n",
       "      <td>...</td>\n",
       "      <td>...</td>\n",
       "      <td>...</td>\n",
       "      <td>...</td>\n",
       "      <td>...</td>\n",
       "    </tr>\n",
       "    <tr>\n",
       "      <th>155</th>\n",
       "      <td>Düsseldorf</td>\n",
       "      <td>DE</td>\n",
       "      <td>2023-07-15 03:00:00</td>\n",
       "      <td>20.51</td>\n",
       "      <td>2.99</td>\n",
       "      <td>46</td>\n",
       "      <td>overcast clouds</td>\n",
       "      <td>2023-07-10 17:32:26</td>\n",
       "    </tr>\n",
       "    <tr>\n",
       "      <th>156</th>\n",
       "      <td>Düsseldorf</td>\n",
       "      <td>DE</td>\n",
       "      <td>2023-07-15 06:00:00</td>\n",
       "      <td>17.92</td>\n",
       "      <td>2.13</td>\n",
       "      <td>74</td>\n",
       "      <td>light rain</td>\n",
       "      <td>2023-07-10 17:32:26</td>\n",
       "    </tr>\n",
       "    <tr>\n",
       "      <th>157</th>\n",
       "      <td>Düsseldorf</td>\n",
       "      <td>DE</td>\n",
       "      <td>2023-07-15 09:00:00</td>\n",
       "      <td>25.35</td>\n",
       "      <td>5.00</td>\n",
       "      <td>38</td>\n",
       "      <td>light rain</td>\n",
       "      <td>2023-07-10 17:32:26</td>\n",
       "    </tr>\n",
       "    <tr>\n",
       "      <th>158</th>\n",
       "      <td>Düsseldorf</td>\n",
       "      <td>DE</td>\n",
       "      <td>2023-07-15 12:00:00</td>\n",
       "      <td>28.75</td>\n",
       "      <td>6.42</td>\n",
       "      <td>40</td>\n",
       "      <td>overcast clouds</td>\n",
       "      <td>2023-07-10 17:32:26</td>\n",
       "    </tr>\n",
       "    <tr>\n",
       "      <th>159</th>\n",
       "      <td>Düsseldorf</td>\n",
       "      <td>DE</td>\n",
       "      <td>2023-07-15 15:00:00</td>\n",
       "      <td>29.32</td>\n",
       "      <td>6.49</td>\n",
       "      <td>39</td>\n",
       "      <td>overcast clouds</td>\n",
       "      <td>2023-07-10 17:32:26</td>\n",
       "    </tr>\n",
       "  </tbody>\n",
       "</table>\n",
       "<p>160 rows × 8 columns</p>\n",
       "</div>"
      ],
      "text/plain": [
       "      city_name country_code           date_time  temperature  wind_speed  \\\n",
       "0        Berlin           DE 2023-07-10 18:00:00        26.04        5.05   \n",
       "1        Berlin           DE 2023-07-10 21:00:00        22.83        3.38   \n",
       "2        Berlin           DE 2023-07-11 00:00:00        18.06        2.49   \n",
       "3        Berlin           DE 2023-07-11 03:00:00        16.47        1.84   \n",
       "4        Berlin           DE 2023-07-11 06:00:00        20.11        1.08   \n",
       "..          ...          ...                 ...          ...         ...   \n",
       "155  Düsseldorf           DE 2023-07-15 03:00:00        20.51        2.99   \n",
       "156  Düsseldorf           DE 2023-07-15 06:00:00        17.92        2.13   \n",
       "157  Düsseldorf           DE 2023-07-15 09:00:00        25.35        5.00   \n",
       "158  Düsseldorf           DE 2023-07-15 12:00:00        28.75        6.42   \n",
       "159  Düsseldorf           DE 2023-07-15 15:00:00        29.32        6.49   \n",
       "\n",
       "     humidity           outlook data_collection_from  \n",
       "0          56        light rain  2023-07-10 17:32:26  \n",
       "1          57     broken clouds  2023-07-10 17:32:26  \n",
       "2          66     broken clouds  2023-07-10 17:32:26  \n",
       "3          71  scattered clouds  2023-07-10 17:32:26  \n",
       "4          56  scattered clouds  2023-07-10 17:32:26  \n",
       "..        ...               ...                  ...  \n",
       "155        46   overcast clouds  2023-07-10 17:32:26  \n",
       "156        74        light rain  2023-07-10 17:32:26  \n",
       "157        38        light rain  2023-07-10 17:32:26  \n",
       "158        40   overcast clouds  2023-07-10 17:32:26  \n",
       "159        39   overcast clouds  2023-07-10 17:32:26  \n",
       "\n",
       "[160 rows x 8 columns]"
      ]
     },
     "execution_count": 9,
     "metadata": {},
     "output_type": "execute_result"
    }
   ],
   "source": [
    "weather_data_df"
   ]
  },
  {
   "cell_type": "markdown",
   "id": "65b3a06a",
   "metadata": {},
   "source": [
    "# Local MySQL Connection"
   ]
  },
  {
   "cell_type": "code",
   "execution_count": 38,
   "id": "11efdb9e",
   "metadata": {},
   "outputs": [],
   "source": [
    "schema=\"p5_gans_database\"\n",
    "host=\"127.0.0.1\"\n",
    "user=\"root\"\n",
    "password=marcus_keys.my_sql_key\n",
    "port=3306\n",
    "con = f'mysql+pymysql://{user}:{password}@{host}:{port}/{schema}'"
   ]
  },
  {
   "cell_type": "markdown",
   "id": "f90c2f82",
   "metadata": {},
   "source": [
    "# AWS RDS MySQL Connection"
   ]
  },
  {
   "cell_type": "code",
   "execution_count": 8,
   "id": "f4a03bbf",
   "metadata": {},
   "outputs": [],
   "source": [
    "schema=\"aws_p5_gans_database\"\n",
    "host=\"wbs-cs-p5-db.cjdcbdhnueky.eu-north-1.rds.amazonaws.com\"\n",
    "user=\"mkadmin\"\n",
    "password=marcus_keys.aws_rds_key\n",
    "port=3306\n",
    "con = f'mysql+pymysql://{user}:{password}@{host}:{port}/{schema}'"
   ]
  },
  {
   "cell_type": "markdown",
   "id": "6af17f81",
   "metadata": {},
   "source": [
    "# Uploading the DataFrame into the database"
   ]
  },
  {
   "cell_type": "code",
   "execution_count": 9,
   "id": "06e04a6e",
   "metadata": {},
   "outputs": [
    {
     "data": {
      "text/plain": [
       "160"
      ]
     },
     "execution_count": 9,
     "metadata": {},
     "output_type": "execute_result"
    }
   ],
   "source": [
    "weather_data_df.to_sql('weather_table', \n",
    "                        if_exists='append', \n",
    "                        con=con, \n",
    "                        index=False)"
   ]
  }
 ],
 "metadata": {
  "kernelspec": {
   "display_name": "Python 3 (ipykernel)",
   "language": "python",
   "name": "python3"
  },
  "language_info": {
   "codemirror_mode": {
    "name": "ipython",
    "version": 3
   },
   "file_extension": ".py",
   "mimetype": "text/x-python",
   "name": "python",
   "nbconvert_exporter": "python",
   "pygments_lexer": "ipython3",
   "version": "3.10.9"
  }
 },
 "nbformat": 4,
 "nbformat_minor": 5
}
